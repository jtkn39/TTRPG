{
 "cells": [
  {
   "cell_type": "code",
   "execution_count": 1,
   "id": "c66444c6-f97d-4587-90cd-6c10c07b65a2",
   "metadata": {},
   "outputs": [],
   "source": [
    "import numpy as np\n",
    "import pandas as pd"
   ]
  },
  {
   "cell_type": "code",
   "execution_count": 47,
   "id": "805b2e87-ca74-4d0b-9b76-64f843295f5f",
   "metadata": {},
   "outputs": [],
   "source": [
    "df_prof = pd.read_csv('./professions.csv')"
   ]
  },
  {
   "cell_type": "code",
   "execution_count": 48,
   "id": "7dbdd8c6-71db-4447-8bd3-0c0f95ef6956",
   "metadata": {},
   "outputs": [],
   "source": [
    "df_ancestry = pd.read_csv('./ancestries.csv')"
   ]
  },
  {
   "cell_type": "code",
   "execution_count": 49,
   "id": "bbfe1bd0-857c-41f1-9a20-168102feed03",
   "metadata": {},
   "outputs": [],
   "source": [
    "df_gender = pd.read_csv('genders.csv')"
   ]
  },
  {
   "cell_type": "code",
   "execution_count": 50,
   "id": "e168da39-a3ef-4763-a4a9-9660e160f399",
   "metadata": {},
   "outputs": [],
   "source": [
    "def convert_rarity_to_probability(df, weight_dict):\n",
    "    probs = np.zeros(len(df))\n",
    "    for i, rarity in enumerate(df['Rarity']):\n",
    "        probs[i] = weight_dict[rarity]\n",
    "    probs /= probs.sum()\n",
    "    df['Probability'] = probs"
   ]
  },
  {
   "cell_type": "code",
   "execution_count": 61,
   "id": "b087ed30-4bc8-4fce-b2d3-cc7c685e1ce9",
   "metadata": {},
   "outputs": [],
   "source": [
    "wd = {'none': 0,\n",
    "      'common': 20,\n",
    "      'uncommon': 10,\n",
    "      'rare': 3,\n",
    "      'very rare': 1}"
   ]
  },
  {
   "cell_type": "code",
   "execution_count": 64,
   "id": "90d3d374-07ef-467f-9a6e-8d63c018ec6b",
   "metadata": {},
   "outputs": [],
   "source": [
    "for df in [df_ancestry, df_prof, df_gender]:\n",
    "    convert_rarity_to_probability(df, wd)"
   ]
  },
  {
   "cell_type": "code",
   "execution_count": 65,
   "id": "a207f901-acf7-4ac1-beb0-80ba8d9d3dba",
   "metadata": {},
   "outputs": [
    {
     "data": {
      "text/html": [
       "<div>\n",
       "<style scoped>\n",
       "    .dataframe tbody tr th:only-of-type {\n",
       "        vertical-align: middle;\n",
       "    }\n",
       "\n",
       "    .dataframe tbody tr th {\n",
       "        vertical-align: top;\n",
       "    }\n",
       "\n",
       "    .dataframe thead th {\n",
       "        text-align: right;\n",
       "    }\n",
       "</style>\n",
       "<table border=\"1\" class=\"dataframe\">\n",
       "  <thead>\n",
       "    <tr style=\"text-align: right;\">\n",
       "      <th></th>\n",
       "      <th>Profession</th>\n",
       "      <th>Rarity</th>\n",
       "      <th>Probability</th>\n",
       "    </tr>\n",
       "  </thead>\n",
       "  <tbody>\n",
       "    <tr>\n",
       "      <th>0</th>\n",
       "      <td>adherent</td>\n",
       "      <td>uncommon</td>\n",
       "      <td>0.008574</td>\n",
       "    </tr>\n",
       "    <tr>\n",
       "      <th>1</th>\n",
       "      <td>anarchist</td>\n",
       "      <td>rare</td>\n",
       "      <td>0.003215</td>\n",
       "    </tr>\n",
       "    <tr>\n",
       "      <th>2</th>\n",
       "      <td>anchorite</td>\n",
       "      <td>rare</td>\n",
       "      <td>0.003215</td>\n",
       "    </tr>\n",
       "    <tr>\n",
       "      <th>3</th>\n",
       "      <td>animal tamer</td>\n",
       "      <td>uncommon</td>\n",
       "      <td>0.008574</td>\n",
       "    </tr>\n",
       "    <tr>\n",
       "      <th>4</th>\n",
       "      <td>antiquarian</td>\n",
       "      <td>uncommon</td>\n",
       "      <td>0.008574</td>\n",
       "    </tr>\n",
       "  </tbody>\n",
       "</table>\n",
       "</div>"
      ],
      "text/plain": [
       "     Profession    Rarity  Probability\n",
       "0      adherent  uncommon     0.008574\n",
       "1     anarchist      rare     0.003215\n",
       "2     anchorite      rare     0.003215\n",
       "3  animal tamer  uncommon     0.008574\n",
       "4   antiquarian  uncommon     0.008574"
      ]
     },
     "execution_count": 65,
     "metadata": {},
     "output_type": "execute_result"
    }
   ],
   "source": [
    "df_prof.head()"
   ]
  },
  {
   "cell_type": "code",
   "execution_count": 71,
   "id": "d6df2e0f-acb1-4fc7-8216-b1a4cef9b19c",
   "metadata": {},
   "outputs": [
    {
     "name": "stdout",
     "output_type": "stream",
     "text": [
      "[0.87521368 0.10940171 0.01367521 0.0017094 ]\n",
      "1\n"
     ]
    }
   ],
   "source": [
    "nmax = 4\n",
    "probs = np.ones(nmax) / (8**np.arange(nmax))\n",
    "probs /= probs.sum()\n",
    "print(probs)\n",
    "print(np.random.choice(nmax, p=probs))"
   ]
  },
  {
   "cell_type": "code",
   "execution_count": 76,
   "id": "92ab964a-ee55-4f0c-87e9-43b5f0ed036d",
   "metadata": {},
   "outputs": [],
   "source": [
    "def draw_sample(df, nmax=1, bias=8):\n",
    "    col0 = df.columns[0]\n",
    "    probs = np.ones(nmax) / (bias**np.arange(nmax))\n",
    "    probs /= probs.sum()\n",
    "    num_choices = 1+np.random.choice(nmax, p=probs)\n",
    "    choices = np.random.choice(df[col0], p=df['Probability'], size=num_choices, replace=False)\n",
    "    return choices"
   ]
  },
  {
   "cell_type": "code",
   "execution_count": 77,
   "id": "741cf9f2-0dad-4604-aabf-ec6a8637d4d8",
   "metadata": {},
   "outputs": [
    {
     "name": "stdout",
     "output_type": "stream",
     "text": [
      "['female']\n",
      "['human']\n",
      "['monk']\n",
      "\n",
      "['male']\n",
      "['human']\n",
      "['rat catcher']\n",
      "\n",
      "['male']\n",
      "['pallid elf']\n",
      "['coachman']\n",
      "\n",
      "['male']\n",
      "['hill dwarf']\n",
      "['gambler']\n",
      "\n",
      "['female']\n",
      "['halfling']\n",
      "['peasant']\n",
      "\n",
      "['female']\n",
      "['human']\n",
      "['outrider']\n",
      "\n",
      "['female']\n",
      "['wood elf']\n",
      "['rat catcher']\n",
      "\n",
      "['male']\n",
      "['wood elf']\n",
      "['reeve']\n",
      "\n",
      "['female']\n",
      "['half-elf']\n",
      "['footpad' 'raconteur']\n",
      "\n",
      "['male']\n",
      "['mountain dwarf']\n",
      "['informer']\n",
      "\n"
     ]
    }
   ],
   "source": [
    "for _ in range(10):\n",
    "    gender = draw_sample(df_gender, nmax=1)\n",
    "    ancestry = draw_sample(df_ancestry, nmax=2, bias=8)\n",
    "    profession = draw_sample(df_prof, nmax=3, bias=4)\n",
    "    "
   ]
  },
  {
   "cell_type": "code",
   "execution_count": null,
   "id": "212212cc-74f3-4a7c-8709-175ec1208718",
   "metadata": {},
   "outputs": [],
   "source": []
  }
 ],
 "metadata": {
  "kernelspec": {
   "display_name": "Python 3 (ipykernel)",
   "language": "python",
   "name": "python3"
  },
  "language_info": {
   "codemirror_mode": {
    "name": "ipython",
    "version": 3
   },
   "file_extension": ".py",
   "mimetype": "text/x-python",
   "name": "python",
   "nbconvert_exporter": "python",
   "pygments_lexer": "ipython3",
   "version": "3.9.16"
  }
 },
 "nbformat": 4,
 "nbformat_minor": 5
}
